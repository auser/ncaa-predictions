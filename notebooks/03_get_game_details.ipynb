{
 "cells": [
  {
   "cell_type": "code",
   "execution_count": 1,
   "metadata": {},
   "outputs": [],
   "source": [
    "%reload_ext autoreload\n",
    "%autoreload 2"
   ]
  },
  {
   "cell_type": "code",
   "execution_count": 2,
   "metadata": {},
   "outputs": [],
   "source": [
    "from selenium.webdriver.support.wait import WebDriverWait\n",
    "from selenium.webdriver.common.by import By\n",
    "from selenium.webdriver.support import expected_conditions as EC\n",
    "from selenium.webdriver.remote.webelement import WebElement\n",
    "\n",
    "import pandas as pd\n",
    "from pathlib import Path\n",
    "\n",
    "from mbp.webscraping import activate_web_driver, get_team_page, get_game_stats\n",
    "from mbp.paths import RAW_DATA_DIR, SEASONS_DIR, team_save_dir\n",
    "from mbp.data import download_game_data"
   ]
  },
  {
   "cell_type": "code",
   "execution_count": 3,
   "metadata": {},
   "outputs": [],
   "source": [
    "team_name = \"Arizona\"\n",
    "year = 2022\n",
    "opponent_name = \"Southern U.\""
   ]
  },
  {
   "cell_type": "code",
   "execution_count": 1,
   "metadata": {},
   "outputs": [
    {
     "ename": "NameError",
     "evalue": "name 'download_game_data' is not defined",
     "output_type": "error",
     "traceback": [
      "\u001b[0;31m---------------------------------------------------------------------------\u001b[0m",
      "\u001b[0;31mNameError\u001b[0m                                 Traceback (most recent call last)",
      "\u001b[1;32m/Users/auser/work/aiml/mine/ncaa-mb-prediction/mbp/notebooks/03_get_game_details.ipynb Cell 4\u001b[0m line \u001b[0;36m1\n\u001b[0;32m----> <a href='vscode-notebook-cell:/Users/auser/work/aiml/mine/ncaa-mb-prediction/mbp/notebooks/03_get_game_details.ipynb#W3sZmlsZQ%3D%3D?line=0'>1</a>\u001b[0m (team1, stats1, team2, stats2) \u001b[39m=\u001b[39m download_game_data(team_name, opponent_name, year)\n\u001b[1;32m      <a href='vscode-notebook-cell:/Users/auser/work/aiml/mine/ncaa-mb-prediction/mbp/notebooks/03_get_game_details.ipynb#W3sZmlsZQ%3D%3D?line=1'>2</a>\u001b[0m \u001b[39mprint\u001b[39m(\u001b[39mf\u001b[39m\u001b[39m\"\u001b[39m\u001b[39m{\u001b[39;00mteam1\u001b[39m}\u001b[39;00m\u001b[39m vs. \u001b[39m\u001b[39m{\u001b[39;00mteam2\u001b[39m}\u001b[39;00m\u001b[39m\"\u001b[39m)\n",
      "\u001b[0;31mNameError\u001b[0m: name 'download_game_data' is not defined"
     ]
    }
   ],
   "source": [
    "(team1, stats1, team2, stats2) = download_game_data(team_name, opponent_name, year)\n",
    "print(f\"{team1} vs. {team2}\")"
   ]
  },
  {
   "cell_type": "code",
   "execution_count": null,
   "metadata": {},
   "outputs": [],
   "source": [
    "### Everything below is scratch"
   ]
  },
  {
   "cell_type": "code",
   "execution_count": 218,
   "metadata": {},
   "outputs": [
    {
     "name": "stdout",
     "output_type": "stream",
     "text": [
      "Southern U. Arizona\n"
     ]
    }
   ],
   "source": [
    "driver = activate_web_driver(\"firefox\", True)\n",
    "df = pd.read_csv(f\"{RAW_DATA_DIR}/mbb_team_names_to_number.csv\", index_col=0)\n",
    "\n",
    "(team1, stats1, team2, stats2) = get_game_stats(driver, df, team_name, opponent_name, year)\n",
    "print(team1, team2)"
   ]
  },
  {
   "cell_type": "code",
   "execution_count": 212,
   "metadata": {},
   "outputs": [
    {
     "name": "stdout",
     "output_type": "stream",
     "text": [
      "95-78\n",
      "['3fe9931c-86e6-486c-9d88-a4bb1218272d']\n",
      "0 []\n"
     ]
    },
    {
     "ename": "IndexError",
     "evalue": "list index out of range",
     "output_type": "error",
     "traceback": [
      "\u001b[0;31m---------------------------------------------------------------------------\u001b[0m",
      "\u001b[0;31mIndexError\u001b[0m                                Traceback (most recent call last)",
      "\u001b[1;32m/Users/auser/work/aiml/mine/ncaa-mb-prediction/mbp/notebooks/03_get_game_details.ipynb Cell 5\u001b[0m line \u001b[0;36m1\n\u001b[0;32m----> <a href='vscode-notebook-cell:/Users/auser/work/aiml/mine/ncaa-mb-prediction/mbp/notebooks/03_get_game_details.ipynb#X12sZmlsZQ%3D%3D?line=0'>1</a>\u001b[0m (team1, stats1, team2, stats2) \u001b[39m=\u001b[39m get_game_stats(driver, df, team_name, opponent_name, year)\n\u001b[1;32m      <a href='vscode-notebook-cell:/Users/auser/work/aiml/mine/ncaa-mb-prediction/mbp/notebooks/03_get_game_details.ipynb#X12sZmlsZQ%3D%3D?line=1'>2</a>\u001b[0m \u001b[39mprint\u001b[39m(team1, team2)\n",
      "File \u001b[0;32m~/work/aiml/mine/ncaa-mb-prediction/mbp/mbp/webscraping.py:444\u001b[0m, in \u001b[0;36mget_game_stats\u001b[0;34m(driver, df, team_name, opponent_name, year)\u001b[0m\n\u001b[1;32m    441\u001b[0m     game_df \u001b[39m=\u001b[39m pd\u001b[39m.\u001b[39mDataFrame(players_and_stats)\n\u001b[1;32m    442\u001b[0m     \u001b[39mreturn\u001b[39;00m (team, game_df)\n\u001b[0;32m--> 444\u001b[0m team1, stats_team1 \u001b[39m=\u001b[39m process_table(tables[\u001b[39m1\u001b[39;49m])\n\u001b[1;32m    445\u001b[0m team2, stats_team2 \u001b[39m=\u001b[39m process_table(tables[\u001b[39m2\u001b[39m])\n\u001b[1;32m    447\u001b[0m team1_games_save_dir \u001b[39m=\u001b[39m team_save_dir(team1, year) \u001b[39m/\u001b[39m \u001b[39m\"\u001b[39m\u001b[39mgames\u001b[39m\u001b[39m\"\u001b[39m\n",
      "\u001b[0;31mIndexError\u001b[0m: list index out of range"
     ]
    }
   ],
   "source": []
  },
  {
   "cell_type": "code",
   "execution_count": 216,
   "metadata": {},
   "outputs": [
    {
     "data": {
      "text/plain": [
       "[3, 4]"
      ]
     },
     "execution_count": 216,
     "metadata": {},
     "output_type": "execute_result"
    }
   ],
   "source": [
    "l = [1,2,3,4]\n",
    "l[-2:]"
   ]
  },
  {
   "cell_type": "code",
   "execution_count": 154,
   "metadata": {},
   "outputs": [
    {
     "name": "stdout",
     "output_type": "stream",
     "text": [
      "95-78\n",
      "['0529f7b3-c170-4b9f-8291-4de39220d6b7']\n"
     ]
    }
   ],
   "source": [
    "driver = activate_web_driver(\"firefox\", False)\n",
    "df = pd.read_csv(f\"{RAW_DATA_DIR}/mbb_team_names_to_number.csv\", index_col=0)\n",
    "\n",
    "get_team_page(driver, df, team_name, year)\n",
    "# Get game page\n",
    "game_by_game_link = driver.find_element(By.LINK_TEXT, \"Game By Game\")\n",
    "game_by_game_link.click()\n",
    "wait = WebDriverWait(driver, 10)\n",
    "wait.until(lambda d: driver.find_element(By.CSS_SELECTOR, \"#game_breakdown_div table\"))\n",
    "\n",
    "# Save the main window handle\n",
    "curr_window_handle = driver.current_window_handle\n",
    "\n",
    "rows = driver.find_elements(By.CSS_SELECTOR, \"#game_breakdown_div table > tbody tr\")\n",
    "# rows = opp_table.find_elements(By.TAG_NAME, \"tr\")\n",
    "# skip the first two rows\n",
    "rows = [row for row in rows[2:] if row.get_attribute(\"class\") == \"\"]\n",
    "for idx, row in enumerate(rows):\n",
    "    try:\n",
    "        cells = rows[idx].find_elements(By.TAG_NAME, \"td\")\n",
    "    except:\n",
    "        pass\n",
    "    if cells[1].text.strip() == opponent_name:\n",
    "        row_links = rows[idx].find_elements(By.TAG_NAME, \"a\")\n",
    "        print(row_links[2].text)\n",
    "        row_links[2].click()\n",
    "        break\n",
    "\n",
    "# Wait for the new window or tab\n",
    "wait.until(EC.number_of_windows_to_be(2))\n",
    "\n",
    "# Switch to new tab\n",
    "other_handles = [handle for handle in driver.window_handles if handle != curr_window_handle]\n",
    "print(other_handles)\n",
    "if len(other_handles) > 0:\n",
    "    driver.switch_to.window(other_handles[0])\n",
    "else:\n",
    "    print(\"Something went wrong\")"
   ]
  },
  {
   "cell_type": "code",
   "execution_count": 194,
   "metadata": {},
   "outputs": [
    {
     "name": "stdout",
     "output_type": "stream",
     "text": [
      "Southern U.\n",
      "['Player', 'Pos', 'G', 'MP', 'FGM', 'FGA', '3FG', '3FGA', 'FT', 'FTA', 'PTS', 'ORebs', 'DRebs', 'Tot Reb', 'AST', 'TO', 'STL', 'BLK', 'Fouls', 'DQ', 'Tech Fouls']\n",
      "Arizona\n",
      "['Player', 'Pos', 'G', 'MP', 'FGM', 'FGA', '3FG', '3FGA', 'FT', 'FTA', 'PTS', 'ORebs', 'DRebs', 'Tot Reb', 'AST', 'TO', 'STL', 'BLK', 'Fouls', 'DQ', 'Tech Fouls']\n"
     ]
    }
   ],
   "source": [
    "# Get the last two tables\n",
    "tables = driver.find_elements(By.CSS_SELECTOR, \"table.mytable\")\n",
    "tables\n",
    "\n",
    "def process_table(table: WebElement):\n",
    "    # First table heading\n",
    "    first_table_heading = table.find_element(By.CSS_SELECTOR, \"tbody > tr.heading\")\n",
    "    team = first_table_heading.text\n",
    "    print(team)\n",
    "\n",
    "    # Get all headers\n",
    "    headers = table.find_elements(By.CSS_SELECTOR, \"th\")\n",
    "    all_headings = [heading.text for heading in headers]\n",
    "    print(all_headings)\n",
    "\n",
    "    # get all players for each row\n",
    "    player_rows = table.find_elements(By.CSS_SELECTOR, \"tr.smtext\")\n",
    "    players_and_stats = []\n",
    "    for row in player_rows:\n",
    "        player_and_stats = {}\n",
    "        cells = row.find_elements(By.TAG_NAME, \"td\")\n",
    "        for idx, heading in enumerate(all_headings):\n",
    "            player_and_stats[heading] = cells[idx].text\n",
    "        \n",
    "        players_and_stats.append(player_and_stats)\n",
    "\n",
    "    game_df = pd.DataFrame(players_and_stats)\n",
    "    return (team, game_df)\n",
    "\n",
    "\n",
    "team1, stats_team1 = process_table(tables[1])\n",
    "team2, stats_team2 = process_table(tables[2])"
   ]
  },
  {
   "cell_type": "code",
   "execution_count": 195,
   "metadata": {},
   "outputs": [],
   "source": [
    "team1_games_save_dir = team_save_dir(team1, year) / \"games\"\n",
    "if not team1_games_save_dir.exists():\n",
    "    team1_games_save_dir.mkdir(exist_ok=True, parents=True)\n",
    "stats_team1.to_csv(team1_games_save_dir / f\"{team2}.csv\")\n",
    "\n",
    "team2_games_save_dir = team_save_dir(team2, year) / \"games\"\n",
    "if not team2_games_save_dir.exists():\n",
    "    team2_games_save_dir.mkdir(exist_ok=True, parents=True)\n",
    "stats_team1.to_csv(team2_games_save_dir / f\"{team1}.csv\")"
   ]
  }
 ],
 "metadata": {
  "kernelspec": {
   "display_name": "mbp-zbgrOTON-py3.9",
   "language": "python",
   "name": "python3"
  },
  "language_info": {
   "codemirror_mode": {
    "name": "ipython",
    "version": 3
   },
   "file_extension": ".py",
   "mimetype": "text/x-python",
   "name": "python",
   "nbconvert_exporter": "python",
   "pygments_lexer": "ipython3",
   "version": "3.9.11"
  }
 },
 "nbformat": 4,
 "nbformat_minor": 2
}
