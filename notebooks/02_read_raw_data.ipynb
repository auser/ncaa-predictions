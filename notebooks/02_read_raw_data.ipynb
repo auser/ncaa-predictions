{
 "cells": [
  {
   "cell_type": "code",
   "execution_count": 15,
   "metadata": {},
   "outputs": [],
   "source": [
    "%reload_ext autoreload\n",
    "%autoreload 2"
   ]
  },
  {
   "cell_type": "code",
   "execution_count": 117,
   "metadata": {},
   "outputs": [],
   "source": [
    "import pandas as pd\n",
    "from pathlib import Path\n",
    "\n",
    "from mbp.webscraping import activate_web_driver, get_team_roster\n",
    "from mbp.paths import RAW_DATA_DIR\n"
   ]
  },
  {
   "cell_type": "code",
   "execution_count": 17,
   "metadata": {},
   "outputs": [],
   "source": [
    "driver = activate_web_driver(\"firefox\")\n",
    "df = pd.read_csv(f\"{RAW_DATA_DIR}/mbb_team_names_to_number.csv\", index_col=0)"
   ]
  },
  {
   "cell_type": "code",
   "execution_count": 119,
   "metadata": {},
   "outputs": [],
   "source": [
    "def get_and_save_roster(team_name, year):\n",
    "    team_roster = get_team_roster(driver, df, team_name, year)\n",
    "    save_dir = Path(f\"{RAW_DATA_DIR}\") / \"seasons\" / year\n",
    "    if not save_dir.exists():\n",
    "        save_dir.mkdir(parents=True, exist_ok=True)\n",
    "\n",
    "    team_roster.to_csv(save_dir / f\"{team_name}_{year}_roster.csv\")"
   ]
  },
  {
   "cell_type": "code",
   "execution_count": 120,
   "metadata": {},
   "outputs": [],
   "source": [
    "get_and_save_roster(\"Arizona\", \"2023\")\n",
    "get_and_save_roster(\"Duke\", \"2023\")"
   ]
  }
 ],
 "metadata": {
  "kernelspec": {
   "display_name": "mbp-zbgrOTON-py3.9",
   "language": "python",
   "name": "python3"
  },
  "language_info": {
   "codemirror_mode": {
    "name": "ipython",
    "version": 3
   },
   "file_extension": ".py",
   "mimetype": "text/x-python",
   "name": "python",
   "nbconvert_exporter": "python",
   "pygments_lexer": "ipython3",
   "version": "3.9.11"
  }
 },
 "nbformat": 4,
 "nbformat_minor": 2
}
