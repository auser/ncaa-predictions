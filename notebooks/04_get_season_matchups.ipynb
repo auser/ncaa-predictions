{
 "cells": [
  {
   "cell_type": "code",
   "execution_count": 283,
   "metadata": {},
   "outputs": [],
   "source": [
    "%reload_ext autoreload\n",
    "%autoreload 2"
   ]
  },
  {
   "cell_type": "code",
   "execution_count": 286,
   "metadata": {},
   "outputs": [],
   "source": [
    "import pandas as pd\n",
    "from pathlib import Path\n",
    "\n",
    "from mbp.webscraping import activate_web_driver, get_team_page\n",
    "from mbp.data import download_team_data, get_team_games_for_year\n",
    "from mbp.paths import SEASONS_DIR, RAW_DATA_DIR\n",
    "from mbp.models import TeamYear, TeamGame"
   ]
  },
  {
   "cell_type": "code",
   "execution_count": 144,
   "metadata": {},
   "outputs": [],
   "source": [
    "team_name = \"Arizona\"\n",
    "raw_year = 2022"
   ]
  },
  {
   "cell_type": "code",
   "execution_count": 145,
   "metadata": {},
   "outputs": [],
   "source": [
    "driver = activate_web_driver(\"firefox\", True)\n",
    "\n",
    "# Read team names\n",
    "df = pd.read_csv(f\"{RAW_DATA_DIR}/mbb_team_names_to_number.csv\", index_col=0)"
   ]
  },
  {
   "cell_type": "code",
   "execution_count": 147,
   "metadata": {},
   "outputs": [
    {
     "name": "stdout",
     "output_type": "stream",
     "text": [
      "Opp has a # in it: #10 Stanford\n",
      "@Las Vegas, NV (2023 MBB Pac-12 Championship)\n",
      "Opp has a # in it: #6 Arizona St.\n",
      "@Las Vegas, NV (2023 MBB Pac-12 Championship)\n",
      "Opp has a # in it: #1 UCLA\n",
      "@Las Vegas, NV (2023 MBB Pac-12 Championship)\n",
      "Opp has a # in it: #15 Princeton\n",
      "@Sacramento, CA (2023 NCAA Division I Men's Basketball Championship)\n"
     ]
    },
    {
     "data": {
      "text/html": [
       "<div>\n",
       "<style scoped>\n",
       "    .dataframe tbody tr th:only-of-type {\n",
       "        vertical-align: middle;\n",
       "    }\n",
       "\n",
       "    .dataframe tbody tr th {\n",
       "        vertical-align: top;\n",
       "    }\n",
       "\n",
       "    .dataframe thead th {\n",
       "        text-align: right;\n",
       "    }\n",
       "</style>\n",
       "<table border=\"1\" class=\"dataframe\">\n",
       "  <thead>\n",
       "    <tr style=\"text-align: right;\">\n",
       "      <th></th>\n",
       "      <th>raw_datetime</th>\n",
       "      <th>opponent</th>\n",
       "      <th>result</th>\n",
       "      <th>attendance</th>\n",
       "      <th>datetime</th>\n",
       "      <th>home</th>\n",
       "    </tr>\n",
       "  </thead>\n",
       "  <tbody>\n",
       "    <tr>\n",
       "      <th>0</th>\n",
       "      <td>11/11/2022</td>\n",
       "      <td>Southern U.</td>\n",
       "      <td>W 95-78</td>\n",
       "      <td>13,485</td>\n",
       "      <td>2022-11-11</td>\n",
       "      <td>1.0</td>\n",
       "    </tr>\n",
       "    <tr>\n",
       "      <th>1</th>\n",
       "      <td>11/17/2022</td>\n",
       "      <td>Utah Tech</td>\n",
       "      <td>W 104-77</td>\n",
       "      <td>12,752</td>\n",
       "      <td>2022-11-17</td>\n",
       "      <td>1.0</td>\n",
       "    </tr>\n",
       "    <tr>\n",
       "      <th>2</th>\n",
       "      <td>11/21/2022</td>\n",
       "      <td>Cincinnati</td>\n",
       "      <td>W 101-93</td>\n",
       "      <td>2,400</td>\n",
       "      <td>2022-11-21</td>\n",
       "      <td>0.0</td>\n",
       "    </tr>\n",
       "    <tr>\n",
       "      <th>3</th>\n",
       "      <td>11/22/2022</td>\n",
       "      <td>San Diego St.</td>\n",
       "      <td>W 87-70</td>\n",
       "      <td>2,400</td>\n",
       "      <td>2022-11-22</td>\n",
       "      <td>0.0</td>\n",
       "    </tr>\n",
       "    <tr>\n",
       "      <th>4</th>\n",
       "      <td>11/23/2022</td>\n",
       "      <td>Creighton</td>\n",
       "      <td>W 81-79</td>\n",
       "      <td>2,400</td>\n",
       "      <td>2022-11-23</td>\n",
       "      <td>0.0</td>\n",
       "    </tr>\n",
       "  </tbody>\n",
       "</table>\n",
       "</div>"
      ],
      "text/plain": [
       "  raw_datetime       opponent    result attendance   datetime  home\n",
       "0   11/11/2022    Southern U.   W 95-78     13,485 2022-11-11   1.0\n",
       "1   11/17/2022      Utah Tech  W 104-77     12,752 2022-11-17   1.0\n",
       "2   11/21/2022     Cincinnati  W 101-93      2,400 2022-11-21   0.0\n",
       "3   11/22/2022  San Diego St.   W 87-70      2,400 2022-11-22   0.0\n",
       "4   11/23/2022      Creighton   W 81-79      2,400 2022-11-23   0.0"
      ]
     },
     "execution_count": 147,
     "metadata": {},
     "output_type": "execute_result"
    }
   ],
   "source": [
    "games_df = get_team_games_for_year(driver, df, team_name, raw_year)\n",
    "games_df.head()"
   ]
  },
  {
   "cell_type": "code",
   "execution_count": 148,
   "metadata": {},
   "outputs": [
    {
     "name": "stdout",
     "output_type": "stream",
     "text": [
      "Downloading Arizona team games\n",
      "Opp has a # in it: #10 Stanford\n",
      "@Las Vegas, NV (2023 MBB Pac-12 Championship)\n",
      "Opp has a # in it: #6 Arizona St.\n",
      "@Las Vegas, NV (2023 MBB Pac-12 Championship)\n",
      "Opp has a # in it: #1 UCLA\n",
      "@Las Vegas, NV (2023 MBB Pac-12 Championship)\n",
      "Opp has a # in it: #15 Princeton\n",
      "@Sacramento, CA (2023 NCAA Division I Men's Basketball Championship)\n",
      "Downloading Arizona team roster\n",
      "Downloading Arizona team stats\n"
     ]
    }
   ],
   "source": [
    "# Download Arizona data\n",
    "download_team_data(team_name, raw_year, True)"
   ]
  },
  {
   "cell_type": "code",
   "execution_count": 149,
   "metadata": {},
   "outputs": [
    {
     "name": "stdout",
     "output_type": "stream",
     "text": [
      "Princeton\n",
      "Downloading Princeton team games\n",
      "Downloading Princeton team roster\n",
      "Downloading Princeton team stats\n"
     ]
    }
   ],
   "source": [
    "# Get their games for the year\n",
    "year_dir = Path(SEASONS_DIR / str(raw_year))\n",
    "team_dir = year_dir / team_name\n",
    "games_df = pd.read_csv(team_dir / \"games.csv\")\n",
    "\n",
    "for opp in games_df['opponent']:\n",
    "    opponent_games = year_dir / opp / \"games.csv\"\n",
    "    if not opponent_games.exists():\n",
    "        print(opp)\n",
    "        download_team_data(opp, raw_year)"
   ]
  },
  {
   "cell_type": "code",
   "execution_count": 273,
   "metadata": {},
   "outputs": [],
   "source": [
    "from mbp.models import TeamYear, TeamGame"
   ]
  },
  {
   "cell_type": "code",
   "execution_count": 330,
   "metadata": {},
   "outputs": [
    {
     "name": "stdout",
     "output_type": "stream",
     "text": [
      "Downloading Arizona team games\n"
     ]
    },
    {
     "name": "stderr",
     "output_type": "stream",
     "text": [
      "/Users/auser/work/aiml/mine/ncaa-mb-prediction/mbp/mbp/webscraping.py:234: FutureWarning: Setting an item of incompatible dtype is deprecated and will raise in a future error of pandas. Value '95' has dtype incompatible with float64, please explicitly cast to a compatible dtype first.\n",
      "  games_df2.at[idx, \"team_score\"] = score_parts[0]\n",
      "/Users/auser/work/aiml/mine/ncaa-mb-prediction/mbp/mbp/webscraping.py:235: FutureWarning: Setting an item of incompatible dtype is deprecated and will raise in a future error of pandas. Value '78' has dtype incompatible with float64, please explicitly cast to a compatible dtype first.\n",
      "  games_df2.at[idx, \"opp_score\"] = score_parts[1]\n"
     ]
    },
    {
     "name": "stdout",
     "output_type": "stream",
     "text": [
      "Downloading Arizona team stats\n"
     ]
    }
   ],
   "source": [
    "az = TeamYear(\"Arizona\", 2022)\n",
    "az.download_updated_data(True)\n",
    "\n",
    "games = az.get_games()"
   ]
  },
  {
   "cell_type": "code",
   "execution_count": 331,
   "metadata": {},
   "outputs": [
    {
     "name": "stdout",
     "output_type": "stream",
     "text": [
      "2022-12-31\n"
     ]
    },
    {
     "data": {
      "text/plain": [
       "opponent               Washington\n",
       "result                      70-67\n",
       "attendance                 13,562\n",
       "datetime      2023-01-05 00:00:00\n",
       "win                           1.0\n",
       "team_score                     70\n",
       "opp_score                      67\n",
       "home                          1.0\n",
       "difference        5 days, 0:00:00\n",
       "Name: 13, dtype: object"
      ]
     },
     "execution_count": 331,
     "metadata": {},
     "output_type": "execute_result"
    }
   ],
   "source": [
    "from datetime import datetime, timedelta, date\n",
    "today = date.today()\n",
    "today = today + timedelta(days=-290)\n",
    "print(today.strftime(\"%Y-%m-%d\"))\n",
    "\n",
    "df2 = games.copy()\n",
    "df2['datetime'] = pd.to_datetime(df2['datetime'])\n",
    "df2['difference'] = (df2['datetime'].dt.date - today)\n",
    "# next_row = df.loc[df['difference'] == df['difference'].min()]\n",
    "# print(df2.loc[df2['TimeDifference'].min()])\n",
    "future_dates = df2[df2['difference'] > timedelta(days=0)]\n",
    "next_future_date = future_dates.loc[future_dates['difference'].idxmin()]\n",
    "next_future_date"
   ]
  },
  {
   "cell_type": "code",
   "execution_count": 373,
   "metadata": {},
   "outputs": [
    {
     "name": "stdout",
     "output_type": "stream",
     "text": [
      "opponent                Princeton\n",
      "result                      55-59\n",
      "attendance                 14,896\n",
      "datetime      2023-03-16 00:00:00\n",
      "win                           0.0\n",
      "team_score                     55\n",
      "opp_score                      59\n",
      "home                          0.0\n",
      "difference      -45 days, 0:00:00\n",
      "Name: 33, dtype: object\n"
     ]
    },
    {
     "data": {
      "text/plain": [
       "Timestamp('2023-03-16 00:00:00')"
      ]
     },
     "execution_count": 373,
     "metadata": {},
     "output_type": "execute_result"
    }
   ],
   "source": [
    "from mbp.models import get_next_game\n",
    "\n",
    "today = date.today()\n",
    "last_year_date = today + timedelta(days=-170)\n",
    "\n",
    "az.get_next_opponent_or_last(last_year_date)\n",
    "game = get_next_game(az, last_year_date)\n",
    "game.date\n",
    "# game.get_players()"
   ]
  },
  {
   "cell_type": "code",
   "execution_count": 348,
   "metadata": {},
   "outputs": [
    {
     "ename": "AttributeError",
     "evalue": "'Timestamp' object has no attribute 'dt'",
     "output_type": "error",
     "traceback": [
      "\u001b[0;31m---------------------------------------------------------------------------\u001b[0m",
      "\u001b[0;31mAttributeError\u001b[0m                            Traceback (most recent call last)",
      "\u001b[1;32m/Users/auser/work/aiml/mine/ncaa-mb-prediction/mbp/notebooks/03_get_season_matchups.ipynb Cell 13\u001b[0m line \u001b[0;36m3\n\u001b[1;32m      <a href='vscode-notebook-cell:/Users/auser/work/aiml/mine/ncaa-mb-prediction/mbp/notebooks/03_get_season_matchups.ipynb#X20sZmlsZQ%3D%3D?line=0'>1</a>\u001b[0m \u001b[39m# get_next_game(az, )\u001b[39;00m\n\u001b[1;32m      <a href='vscode-notebook-cell:/Users/auser/work/aiml/mine/ncaa-mb-prediction/mbp/notebooks/03_get_season_matchups.ipynb#X20sZmlsZQ%3D%3D?line=1'>2</a>\u001b[0m az\u001b[39m.\u001b[39mget_next_opponent_or_last(last_year_date)\n\u001b[0;32m----> <a href='vscode-notebook-cell:/Users/auser/work/aiml/mine/ncaa-mb-prediction/mbp/notebooks/03_get_season_matchups.ipynb#X20sZmlsZQ%3D%3D?line=2'>3</a>\u001b[0m game \u001b[39m=\u001b[39m get_next_game(az, last_year_date)\n\u001b[1;32m      <a href='vscode-notebook-cell:/Users/auser/work/aiml/mine/ncaa-mb-prediction/mbp/notebooks/03_get_season_matchups.ipynb#X20sZmlsZQ%3D%3D?line=3'>4</a>\u001b[0m \u001b[39mprint\u001b[39m(game)\n",
      "File \u001b[0;32m~/work/aiml/mine/ncaa-mb-prediction/mbp/mbp/models/TeamYear.py:16\u001b[0m, in \u001b[0;36mget_next_game\u001b[0;34m(team_year, date_from)\u001b[0m\n\u001b[1;32m     12\u001b[0m \u001b[39mfrom\u001b[39;00m \u001b[39m.\u001b[39;00m\u001b[39mTeamGame\u001b[39;00m \u001b[39mimport\u001b[39;00m TeamGame\n\u001b[1;32m     14\u001b[0m next_opponent \u001b[39m=\u001b[39m team_year\u001b[39m.\u001b[39mget_next_opponent_or_last(date_from)\n\u001b[0;32m---> 16\u001b[0m \u001b[39mreturn\u001b[39;00m TeamGame(team_year, next_opponent)\n",
      "File \u001b[0;32m~/work/aiml/mine/ncaa-mb-prediction/mbp/mbp/models/TeamGame.py:13\u001b[0m, in \u001b[0;36mTeamGame.__init__\u001b[0;34m(self, team_a, game_details)\u001b[0m\n\u001b[1;32m     11\u001b[0m \u001b[39mself\u001b[39m\u001b[39m.\u001b[39mteam_a \u001b[39m=\u001b[39m team_a\n\u001b[1;32m     12\u001b[0m team_b_name \u001b[39m=\u001b[39m game_details[\u001b[39m\"\u001b[39m\u001b[39mopponent\u001b[39m\u001b[39m\"\u001b[39m]\n\u001b[0;32m---> 13\u001b[0m year \u001b[39m=\u001b[39m pd\u001b[39m.\u001b[39;49mto_datetime(game_details[\u001b[39m\"\u001b[39;49m\u001b[39mdatetime\u001b[39;49m\u001b[39m\"\u001b[39;49m])\u001b[39m.\u001b[39;49mdt\u001b[39m.\u001b[39myear\n\u001b[1;32m     14\u001b[0m \u001b[39mself\u001b[39m\u001b[39m.\u001b[39mteam_b \u001b[39m=\u001b[39m TeamYear(team_b_name, year)\n\u001b[1;32m     15\u001b[0m \u001b[39mself\u001b[39m\u001b[39m.\u001b[39mis_home_game \u001b[39m=\u001b[39m game_details[\u001b[39m\"\u001b[39m\u001b[39mhome\u001b[39m\u001b[39m\"\u001b[39m] \u001b[39m==\u001b[39m \u001b[39mTrue\u001b[39;00m\n",
      "\u001b[0;31mAttributeError\u001b[0m: 'Timestamp' object has no attribute 'dt'"
     ]
    }
   ],
   "source": []
  }
 ],
 "metadata": {
  "kernelspec": {
   "display_name": "mbp-zbgrOTON-py3.9",
   "language": "python",
   "name": "python3"
  },
  "language_info": {
   "codemirror_mode": {
    "name": "ipython",
    "version": 3
   },
   "file_extension": ".py",
   "mimetype": "text/x-python",
   "name": "python",
   "nbconvert_exporter": "python",
   "pygments_lexer": "ipython3",
   "version": "3.9.11"
  }
 },
 "nbformat": 4,
 "nbformat_minor": 2
}
